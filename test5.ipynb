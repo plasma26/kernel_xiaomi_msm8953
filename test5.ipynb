{
  "nbformat": 4,
  "nbformat_minor": 0,
  "metadata": {
    "colab": {
      "name": "test5.ipynb",
      "provenance": [],
      "collapsed_sections": [],
      "authorship_tag": "ABX9TyNmZEy8hjyt0MIG7hrVFrJB",
      "include_colab_link": true
    },
    "kernelspec": {
      "name": "python3",
      "display_name": "Python 3"
    }
  },
  "cells": [
    {
      "cell_type": "markdown",
      "metadata": {
        "id": "view-in-github",
        "colab_type": "text"
      },
      "source": [
        "<a href=\"https://colab.research.google.com/github/plasma26/kernel_xiaomi_msm8953/blob/10/test5.ipynb\" target=\"_parent\"><img src=\"https://colab.research.google.com/assets/colab-badge.svg\" alt=\"Open In Colab\"/></a>"
      ]
    },
    {
      "cell_type": "code",
      "metadata": {
        "id": "5EwWJVF-SzrR"
      },
      "source": [
        "import numpy as np\r\n",
        "from sklearn.datasets import load_iris\r\n",
        "from sklearn.model_selection import train_test_split\r\n",
        "from sklearn.linear_model import SGDClassifier\r\n",
        "from sklearn.neighbors import KNeighborsClassifier\r\n",
        "import matplotlib.pyplot as plt\r\n",
        "%matplotlib inline"
      ],
      "execution_count": 4,
      "outputs": []
    },
    {
      "cell_type": "code",
      "metadata": {
        "id": "MSrv60S7S1A8"
      },
      "source": [
        "from sklearn.tree import DecisionTreeClassifier"
      ],
      "execution_count": 7,
      "outputs": []
    },
    {
      "cell_type": "code",
      "metadata": {
        "id": "SdRBGxgDS52i"
      },
      "source": [
        "iris = load_iris()\r\n",
        "X, y = iris.data, iris.target\r\n"
      ],
      "execution_count": 9,
      "outputs": []
    },
    {
      "cell_type": "code",
      "metadata": {
        "id": "cf9nYV7FTfiz"
      },
      "source": [
        "X = X[:,:2]"
      ],
      "execution_count": 12,
      "outputs": []
    },
    {
      "cell_type": "code",
      "metadata": {
        "colab": {
          "base_uri": "https://localhost:8080/"
        },
        "id": "f7LuZTKQTK0L",
        "outputId": "7a85a909-acb0-452d-98af-51b8f27140ba"
      },
      "source": [
        "X, y"
      ],
      "execution_count": 13,
      "outputs": [
        {
          "output_type": "execute_result",
          "data": {
            "text/plain": [
              "(array([[5.1, 3.5],\n",
              "        [4.9, 3. ],\n",
              "        [4.7, 3.2],\n",
              "        [4.6, 3.1],\n",
              "        [5. , 3.6],\n",
              "        [5.4, 3.9],\n",
              "        [4.6, 3.4],\n",
              "        [5. , 3.4],\n",
              "        [4.4, 2.9],\n",
              "        [4.9, 3.1],\n",
              "        [5.4, 3.7],\n",
              "        [4.8, 3.4],\n",
              "        [4.8, 3. ],\n",
              "        [4.3, 3. ],\n",
              "        [5.8, 4. ],\n",
              "        [5.7, 4.4],\n",
              "        [5.4, 3.9],\n",
              "        [5.1, 3.5],\n",
              "        [5.7, 3.8],\n",
              "        [5.1, 3.8],\n",
              "        [5.4, 3.4],\n",
              "        [5.1, 3.7],\n",
              "        [4.6, 3.6],\n",
              "        [5.1, 3.3],\n",
              "        [4.8, 3.4],\n",
              "        [5. , 3. ],\n",
              "        [5. , 3.4],\n",
              "        [5.2, 3.5],\n",
              "        [5.2, 3.4],\n",
              "        [4.7, 3.2],\n",
              "        [4.8, 3.1],\n",
              "        [5.4, 3.4],\n",
              "        [5.2, 4.1],\n",
              "        [5.5, 4.2],\n",
              "        [4.9, 3.1],\n",
              "        [5. , 3.2],\n",
              "        [5.5, 3.5],\n",
              "        [4.9, 3.6],\n",
              "        [4.4, 3. ],\n",
              "        [5.1, 3.4],\n",
              "        [5. , 3.5],\n",
              "        [4.5, 2.3],\n",
              "        [4.4, 3.2],\n",
              "        [5. , 3.5],\n",
              "        [5.1, 3.8],\n",
              "        [4.8, 3. ],\n",
              "        [5.1, 3.8],\n",
              "        [4.6, 3.2],\n",
              "        [5.3, 3.7],\n",
              "        [5. , 3.3],\n",
              "        [7. , 3.2],\n",
              "        [6.4, 3.2],\n",
              "        [6.9, 3.1],\n",
              "        [5.5, 2.3],\n",
              "        [6.5, 2.8],\n",
              "        [5.7, 2.8],\n",
              "        [6.3, 3.3],\n",
              "        [4.9, 2.4],\n",
              "        [6.6, 2.9],\n",
              "        [5.2, 2.7],\n",
              "        [5. , 2. ],\n",
              "        [5.9, 3. ],\n",
              "        [6. , 2.2],\n",
              "        [6.1, 2.9],\n",
              "        [5.6, 2.9],\n",
              "        [6.7, 3.1],\n",
              "        [5.6, 3. ],\n",
              "        [5.8, 2.7],\n",
              "        [6.2, 2.2],\n",
              "        [5.6, 2.5],\n",
              "        [5.9, 3.2],\n",
              "        [6.1, 2.8],\n",
              "        [6.3, 2.5],\n",
              "        [6.1, 2.8],\n",
              "        [6.4, 2.9],\n",
              "        [6.6, 3. ],\n",
              "        [6.8, 2.8],\n",
              "        [6.7, 3. ],\n",
              "        [6. , 2.9],\n",
              "        [5.7, 2.6],\n",
              "        [5.5, 2.4],\n",
              "        [5.5, 2.4],\n",
              "        [5.8, 2.7],\n",
              "        [6. , 2.7],\n",
              "        [5.4, 3. ],\n",
              "        [6. , 3.4],\n",
              "        [6.7, 3.1],\n",
              "        [6.3, 2.3],\n",
              "        [5.6, 3. ],\n",
              "        [5.5, 2.5],\n",
              "        [5.5, 2.6],\n",
              "        [6.1, 3. ],\n",
              "        [5.8, 2.6],\n",
              "        [5. , 2.3],\n",
              "        [5.6, 2.7],\n",
              "        [5.7, 3. ],\n",
              "        [5.7, 2.9],\n",
              "        [6.2, 2.9],\n",
              "        [5.1, 2.5],\n",
              "        [5.7, 2.8],\n",
              "        [6.3, 3.3],\n",
              "        [5.8, 2.7],\n",
              "        [7.1, 3. ],\n",
              "        [6.3, 2.9],\n",
              "        [6.5, 3. ],\n",
              "        [7.6, 3. ],\n",
              "        [4.9, 2.5],\n",
              "        [7.3, 2.9],\n",
              "        [6.7, 2.5],\n",
              "        [7.2, 3.6],\n",
              "        [6.5, 3.2],\n",
              "        [6.4, 2.7],\n",
              "        [6.8, 3. ],\n",
              "        [5.7, 2.5],\n",
              "        [5.8, 2.8],\n",
              "        [6.4, 3.2],\n",
              "        [6.5, 3. ],\n",
              "        [7.7, 3.8],\n",
              "        [7.7, 2.6],\n",
              "        [6. , 2.2],\n",
              "        [6.9, 3.2],\n",
              "        [5.6, 2.8],\n",
              "        [7.7, 2.8],\n",
              "        [6.3, 2.7],\n",
              "        [6.7, 3.3],\n",
              "        [7.2, 3.2],\n",
              "        [6.2, 2.8],\n",
              "        [6.1, 3. ],\n",
              "        [6.4, 2.8],\n",
              "        [7.2, 3. ],\n",
              "        [7.4, 2.8],\n",
              "        [7.9, 3.8],\n",
              "        [6.4, 2.8],\n",
              "        [6.3, 2.8],\n",
              "        [6.1, 2.6],\n",
              "        [7.7, 3. ],\n",
              "        [6.3, 3.4],\n",
              "        [6.4, 3.1],\n",
              "        [6. , 3. ],\n",
              "        [6.9, 3.1],\n",
              "        [6.7, 3.1],\n",
              "        [6.9, 3.1],\n",
              "        [5.8, 2.7],\n",
              "        [6.8, 3.2],\n",
              "        [6.7, 3.3],\n",
              "        [6.7, 3. ],\n",
              "        [6.3, 2.5],\n",
              "        [6.5, 3. ],\n",
              "        [6.2, 3.4],\n",
              "        [5.9, 3. ]]),\n",
              " array([0, 0, 0, 0, 0, 0, 0, 0, 0, 0, 0, 0, 0, 0, 0, 0, 0, 0, 0, 0, 0, 0,\n",
              "        0, 0, 0, 0, 0, 0, 0, 0, 0, 0, 0, 0, 0, 0, 0, 0, 0, 0, 0, 0, 0, 0,\n",
              "        0, 0, 0, 0, 0, 0, 1, 1, 1, 1, 1, 1, 1, 1, 1, 1, 1, 1, 1, 1, 1, 1,\n",
              "        1, 1, 1, 1, 1, 1, 1, 1, 1, 1, 1, 1, 1, 1, 1, 1, 1, 1, 1, 1, 1, 1,\n",
              "        1, 1, 1, 1, 1, 1, 1, 1, 1, 1, 1, 1, 2, 2, 2, 2, 2, 2, 2, 2, 2, 2,\n",
              "        2, 2, 2, 2, 2, 2, 2, 2, 2, 2, 2, 2, 2, 2, 2, 2, 2, 2, 2, 2, 2, 2,\n",
              "        2, 2, 2, 2, 2, 2, 2, 2, 2, 2, 2, 2, 2, 2, 2, 2, 2, 2]))"
            ]
          },
          "metadata": {
            "tags": []
          },
          "execution_count": 13
        }
      ]
    },
    {
      "cell_type": "code",
      "metadata": {
        "id": "yXOer3EcTs71"
      },
      "source": [
        ""
      ],
      "execution_count": null,
      "outputs": []
    },
    {
      "cell_type": "code",
      "metadata": {
        "id": "ltFERnNzTtaN"
      },
      "source": [
        "X_train, X_test, y_train, y_test = train_test_split(X, y)"
      ],
      "execution_count": 15,
      "outputs": []
    },
    {
      "cell_type": "code",
      "metadata": {
        "colab": {
          "base_uri": "https://localhost:8080/"
        },
        "id": "mmy4vNvETtdd",
        "outputId": "eac62aa0-fc65-4b0f-e156-04788ce1238c"
      },
      "source": [
        "X_train.shape, X_test.shape"
      ],
      "execution_count": 16,
      "outputs": [
        {
          "output_type": "execute_result",
          "data": {
            "text/plain": [
              "((112, 2), (38, 2))"
            ]
          },
          "metadata": {
            "tags": []
          },
          "execution_count": 16
        }
      ]
    },
    {
      "cell_type": "code",
      "metadata": {
        "colab": {
          "base_uri": "https://localhost:8080/"
        },
        "id": "z0GQU0SsUb_z",
        "outputId": "6edd8625-9743-48ba-97bd-9ceff39f6812"
      },
      "source": [
        "clf=DecisionTreeClassifier(max_depth=2)\r\n",
        "clf.fit(X_train, y_train)\r\n",
        "clf.fit(X, y)"
      ],
      "execution_count": 41,
      "outputs": [
        {
          "output_type": "execute_result",
          "data": {
            "text/plain": [
              "DecisionTreeClassifier(ccp_alpha=0.0, class_weight=None, criterion='gini',\n",
              "                       max_depth=2, max_features=None, max_leaf_nodes=None,\n",
              "                       min_impurity_decrease=0.0, min_impurity_split=None,\n",
              "                       min_samples_leaf=1, min_samples_split=2,\n",
              "                       min_weight_fraction_leaf=0.0, presort='deprecated',\n",
              "                       random_state=None, splitter='best')"
            ]
          },
          "metadata": {
            "tags": []
          },
          "execution_count": 41
        }
      ]
    },
    {
      "cell_type": "code",
      "metadata": {
        "colab": {
          "base_uri": "https://localhost:8080/",
          "height": 372
        },
        "id": "7SuDApMNUcGr",
        "outputId": "3266099d-6dc6-4ac1-d6b3-cfb6c196cfc1"
      },
      "source": [
        "from sklearn import tree \r\n",
        "tree.plot_tree(clf,filled=True)"
      ],
      "execution_count": 42,
      "outputs": [
        {
          "output_type": "execute_result",
          "data": {
            "text/plain": [
              "[Text(167.4, 181.2, 'X[0] <= 5.45\\ngini = 0.667\\nsamples = 150\\nvalue = [50, 50, 50]'),\n",
              " Text(83.7, 108.72, 'X[1] <= 2.8\\ngini = 0.237\\nsamples = 52\\nvalue = [45, 6, 1]'),\n",
              " Text(41.85, 36.23999999999998, 'gini = 0.449\\nsamples = 7\\nvalue = [1, 5, 1]'),\n",
              " Text(125.55000000000001, 36.23999999999998, 'gini = 0.043\\nsamples = 45\\nvalue = [44, 1, 0]'),\n",
              " Text(251.10000000000002, 108.72, 'X[0] <= 6.15\\ngini = 0.546\\nsamples = 98\\nvalue = [5, 44, 49]'),\n",
              " Text(209.25, 36.23999999999998, 'gini = 0.508\\nsamples = 43\\nvalue = [5, 28, 10]'),\n",
              " Text(292.95, 36.23999999999998, 'gini = 0.413\\nsamples = 55\\nvalue = [0, 16, 39]')]"
            ]
          },
          "metadata": {
            "tags": []
          },
          "execution_count": 42
        },
        {
          "output_type": "display_data",
          "data": {
            "image/png": "[encoded data removed]",
            "text/plain": [
              "<Figure size 432x288 with 1 Axes>"
            ]
          },
          "metadata": {
            "tags": [],
            "needs_background": "light"
          }
        }
      ]
    },
    {
      "cell_type": "code",
      "metadata": {
        "id": "Kj0y4Uw4UcKj"
      },
      "source": [
        "from sklearn.tree import export_graphviz\r\n",
        "import graphviz"
      ],
      "execution_count": 43,
      "outputs": []
    },
    {
      "cell_type": "code",
      "metadata": {
        "id": "nrdF1x8EVGRM"
      },
      "source": [
        "export_graphviz(\r\n",
        "    clf,\r\n",
        "    out_file=\"./iris.dot\",\r\n",
        "    feature_names = iris.feature_names[:2],\r\n",
        "    class_names = iris.target_names,\r\n",
        "    filled =True\r\n",
        ")"
      ],
      "execution_count": 44,
      "outputs": []
    },
    {
      "cell_type": "code",
      "metadata": {
        "colab": {
          "base_uri": "https://localhost:8080/",
          "height": 437
        },
        "id": "VZGO1-24Ww2d",
        "outputId": "ef5e5a43-0919-4d13-e646-7d7dbf4de60f"
      },
      "source": [
        "with open(\"./iris.dot\" ) as f:\r\n",
        "      dot_graph =str(open(\"./iris.dot\", \"rb\").read(), \"utf8\")\r\n",
        "graphviz.Source(dot_graph)"
      ],
      "execution_count": 45,
      "outputs": [
        {
          "output_type": "execute_result",
          "data": {
            "text/plain": [
              "<graphviz.files.Source at 0x7f06b4245828>"
            ],
            "image/svg+xml": "<?xml version=\"1.0\" encoding=\"UTF-8\" standalone=\"no\"?>\n<!DOCTYPE svg PUBLIC \"-//W3C//DTD SVG 1.1//EN\"\n \"http://www.w3.org/Graphics/SVG/1.1/DTD/svg11.dtd\">\n<!-- Generated by graphviz version 2.40.1 (20161225.0304)\n -->\n<!-- Title: Tree Pages: 1 -->\n<svg width=\"563pt\" height=\"314pt\"\n viewBox=\"0.00 0.00 563.00 314.00\" xmlns=\"http://www.w3.org/2000/svg\" xmlns:xlink=\"http://www.w3.org/1999/xlink\">\n<g id=\"graph0\" class=\"graph\" transform=\"scale(1 1) rotate(0) translate(4 310)\">\n<title>Tree</title>\n<polygon fill=\"#ffffff\" stroke=\"transparent\" points=\"-4,4 -4,-310 559,-310 559,4 -4,4\"/>\n<!-- 0 -->\n<g id=\"node1\" class=\"node\">\n<title>0</title>\n<polygon fill=\"#ffffff\" stroke=\"#000000\" points=\"353,-306 188,-306 188,-223 353,-223 353,-306\"/>\n<text text-anchor=\"middle\" x=\"270.5\" y=\"-290.8\" font-family=\"Times,serif\" font-size=\"14.00\" fill=\"#000000\">sepal length (cm) &lt;= 5.45</text>\n<text text-anchor=\"middle\" x=\"270.5\" y=\"-275.8\" font-family=\"Times,serif\" font-size=\"14.00\" fill=\"#000000\">gini = 0.667</text>\n<text text-anchor=\"middle\" x=\"270.5\" y=\"-260.8\" font-family=\"Times,serif\" font-size=\"14.00\" fill=\"#000000\">samples = 150</text>\n<text text-anchor=\"middle\" x=\"270.5\" y=\"-245.8\" font-family=\"Times,serif\" font-size=\"14.00\" fill=\"#000000\">value = [50, 50, 50]</text>\n<text text-anchor=\"middle\" x=\"270.5\" y=\"-230.8\" font-family=\"Times,serif\" font-size=\"14.00\" fill=\"#000000\">class = setosa</text>\n</g>\n<!-- 1 -->\n<g id=\"node2\" class=\"node\">\n<title>1</title>\n<polygon fill=\"#e99457\" stroke=\"#000000\" points=\"259,-187 104,-187 104,-104 259,-104 259,-187\"/>\n<text text-anchor=\"middle\" x=\"181.5\" y=\"-171.8\" font-family=\"Times,serif\" font-size=\"14.00\" fill=\"#000000\">sepal width (cm) &lt;= 2.8</text>\n<text text-anchor=\"middle\" x=\"181.5\" y=\"-156.8\" font-family=\"Times,serif\" font-size=\"14.00\" fill=\"#000000\">gini = 0.237</text>\n<text text-anchor=\"middle\" x=\"181.5\" y=\"-141.8\" font-family=\"Times,serif\" font-size=\"14.00\" fill=\"#000000\">samples = 52</text>\n<text text-anchor=\"middle\" x=\"181.5\" y=\"-126.8\" font-family=\"Times,serif\" font-size=\"14.00\" fill=\"#000000\">value = [45, 6, 1]</text>\n<text text-anchor=\"middle\" x=\"181.5\" y=\"-111.8\" font-family=\"Times,serif\" font-size=\"14.00\" fill=\"#000000\">class = setosa</text>\n</g>\n<!-- 0&#45;&gt;1 -->\n<g id=\"edge1\" class=\"edge\">\n<title>0&#45;&gt;1</title>\n<path fill=\"none\" stroke=\"#000000\" d=\"M239.3721,-222.8796C232.771,-214.0534 225.7371,-204.6485 218.9298,-195.5466\"/>\n<polygon fill=\"#000000\" stroke=\"#000000\" points=\"221.5528,-193.2099 212.7607,-187.2981 215.9472,-197.4024 221.5528,-193.2099\"/>\n<text text-anchor=\"middle\" x=\"209.1919\" y=\"-208.342\" font-family=\"Times,serif\" font-size=\"14.00\" fill=\"#000000\">True</text>\n</g>\n<!-- 4 -->\n<g id=\"node5\" class=\"node\">\n<title>4</title>\n<polygon fill=\"#f3edfd\" stroke=\"#000000\" points=\"442,-187 277,-187 277,-104 442,-104 442,-187\"/>\n<text text-anchor=\"middle\" x=\"359.5\" y=\"-171.8\" font-family=\"Times,serif\" font-size=\"14.00\" fill=\"#000000\">sepal length (cm) &lt;= 6.15</text>\n<text text-anchor=\"middle\" x=\"359.5\" y=\"-156.8\" font-family=\"Times,serif\" font-size=\"14.00\" fill=\"#000000\">gini = 0.546</text>\n<text text-anchor=\"middle\" x=\"359.5\" y=\"-141.8\" font-family=\"Times,serif\" font-size=\"14.00\" fill=\"#000000\">samples = 98</text>\n<text text-anchor=\"middle\" x=\"359.5\" y=\"-126.8\" font-family=\"Times,serif\" font-size=\"14.00\" fill=\"#000000\">value = [5, 44, 49]</text>\n<text text-anchor=\"middle\" x=\"359.5\" y=\"-111.8\" font-family=\"Times,serif\" font-size=\"14.00\" fill=\"#000000\">class = virginica</text>\n</g>\n<!-- 0&#45;&gt;4 -->\n<g id=\"edge4\" class=\"edge\">\n<title>0&#45;&gt;4</title>\n<path fill=\"none\" stroke=\"#000000\" d=\"M301.6279,-222.8796C308.229,-214.0534 315.2629,-204.6485 322.0702,-195.5466\"/>\n<polygon fill=\"#000000\" stroke=\"#000000\" points=\"325.0528,-197.4024 328.2393,-187.2981 319.4472,-193.2099 325.0528,-197.4024\"/>\n<text text-anchor=\"middle\" x=\"331.8081\" y=\"-208.342\" font-family=\"Times,serif\" font-size=\"14.00\" fill=\"#000000\">False</text>\n</g>\n<!-- 2 -->\n<g id=\"node3\" class=\"node\">\n<title>2</title>\n<polygon fill=\"#7beeab\" stroke=\"#000000\" points=\"115,-68 0,-68 0,0 115,0 115,-68\"/>\n<text text-anchor=\"middle\" x=\"57.5\" y=\"-52.8\" font-family=\"Times,serif\" font-size=\"14.00\" fill=\"#000000\">gini = 0.449</text>\n<text text-anchor=\"middle\" x=\"57.5\" y=\"-37.8\" font-family=\"Times,serif\" font-size=\"14.00\" fill=\"#000000\">samples = 7</text>\n<text text-anchor=\"middle\" x=\"57.5\" y=\"-22.8\" font-family=\"Times,serif\" font-size=\"14.00\" fill=\"#000000\">value = [1, 5, 1]</text>\n<text text-anchor=\"middle\" x=\"57.5\" y=\"-7.8\" font-family=\"Times,serif\" font-size=\"14.00\" fill=\"#000000\">class = versicolor</text>\n</g>\n<!-- 1&#45;&gt;2 -->\n<g id=\"edge2\" class=\"edge\">\n<title>1&#45;&gt;2</title>\n<path fill=\"none\" stroke=\"#000000\" d=\"M135.327,-103.9815C124.7993,-94.5151 113.6192,-84.462 103.1151,-75.0168\"/>\n<polygon fill=\"#000000\" stroke=\"#000000\" points=\"105.3811,-72.3475 95.6049,-68.2637 100.7006,-77.5526 105.3811,-72.3475\"/>\n</g>\n<!-- 3 -->\n<g id=\"node4\" class=\"node\">\n<title>3</title>\n<polygon fill=\"#e6843d\" stroke=\"#000000\" points=\"250,-68 133,-68 133,0 250,0 250,-68\"/>\n<text text-anchor=\"middle\" x=\"191.5\" y=\"-52.8\" font-family=\"Times,serif\" font-size=\"14.00\" fill=\"#000000\">gini = 0.043</text>\n<text text-anchor=\"middle\" x=\"191.5\" y=\"-37.8\" font-family=\"Times,serif\" font-size=\"14.00\" fill=\"#000000\">samples = 45</text>\n<text text-anchor=\"middle\" x=\"191.5\" y=\"-22.8\" font-family=\"Times,serif\" font-size=\"14.00\" fill=\"#000000\">value = [44, 1, 0]</text>\n<text text-anchor=\"middle\" x=\"191.5\" y=\"-7.8\" font-family=\"Times,serif\" font-size=\"14.00\" fill=\"#000000\">class = setosa</text>\n</g>\n<!-- 1&#45;&gt;3 -->\n<g id=\"edge3\" class=\"edge\">\n<title>1&#45;&gt;3</title>\n<path fill=\"none\" stroke=\"#000000\" d=\"M185.2236,-103.9815C185.9737,-95.618 186.7649,-86.7965 187.5232,-78.3409\"/>\n<polygon fill=\"#000000\" stroke=\"#000000\" points=\"191.0197,-78.5364 188.427,-68.2637 184.0477,-77.911 191.0197,-78.5364\"/>\n</g>\n<!-- 5 -->\n<g id=\"node6\" class=\"node\">\n<title>5</title>\n<polygon fill=\"#93f1ba\" stroke=\"#000000\" points=\"412,-68 287,-68 287,0 412,0 412,-68\"/>\n<text text-anchor=\"middle\" x=\"349.5\" y=\"-52.8\" font-family=\"Times,serif\" font-size=\"14.00\" fill=\"#000000\">gini = 0.508</text>\n<text text-anchor=\"middle\" x=\"349.5\" y=\"-37.8\" font-family=\"Times,serif\" font-size=\"14.00\" fill=\"#000000\">samples = 43</text>\n<text text-anchor=\"middle\" x=\"349.5\" y=\"-22.8\" font-family=\"Times,serif\" font-size=\"14.00\" fill=\"#000000\">value = [5, 28, 10]</text>\n<text text-anchor=\"middle\" x=\"349.5\" y=\"-7.8\" font-family=\"Times,serif\" font-size=\"14.00\" fill=\"#000000\">class = versicolor</text>\n</g>\n<!-- 4&#45;&gt;5 -->\n<g id=\"edge5\" class=\"edge\">\n<title>4&#45;&gt;5</title>\n<path fill=\"none\" stroke=\"#000000\" d=\"M355.7764,-103.9815C355.0263,-95.618 354.2351,-86.7965 353.4768,-78.3409\"/>\n<polygon fill=\"#000000\" stroke=\"#000000\" points=\"356.9523,-77.911 352.573,-68.2637 349.9803,-78.5364 356.9523,-77.911\"/>\n</g>\n<!-- 6 -->\n<g id=\"node7\" class=\"node\">\n<title>6</title>\n<polygon fill=\"#b58af0\" stroke=\"#000000\" points=\"555,-68 430,-68 430,0 555,0 555,-68\"/>\n<text text-anchor=\"middle\" x=\"492.5\" y=\"-52.8\" font-family=\"Times,serif\" font-size=\"14.00\" fill=\"#000000\">gini = 0.413</text>\n<text text-anchor=\"middle\" x=\"492.5\" y=\"-37.8\" font-family=\"Times,serif\" font-size=\"14.00\" fill=\"#000000\">samples = 55</text>\n<text text-anchor=\"middle\" x=\"492.5\" y=\"-22.8\" font-family=\"Times,serif\" font-size=\"14.00\" fill=\"#000000\">value = [0, 16, 39]</text>\n<text text-anchor=\"middle\" x=\"492.5\" y=\"-7.8\" font-family=\"Times,serif\" font-size=\"14.00\" fill=\"#000000\">class = virginica</text>\n</g>\n<!-- 4&#45;&gt;6 -->\n<g id=\"edge6\" class=\"edge\">\n<title>4&#45;&gt;6</title>\n<path fill=\"none\" stroke=\"#000000\" d=\"M409.0243,-103.9815C420.4257,-94.4232 432.5405,-84.2668 443.9021,-74.7419\"/>\n<polygon fill=\"#000000\" stroke=\"#000000\" points=\"446.2147,-77.3704 451.6294,-68.2637 441.7175,-72.006 446.2147,-77.3704\"/>\n</g>\n</g>\n</svg>\n"
          },
          "metadata": {
            "tags": []
          },
          "execution_count": 45
        }
      ]
    },
    {
      "cell_type": "code",
      "metadata": {
        "colab": {
          "base_uri": "https://localhost:8080/"
        },
        "id": "H9DHAorGVGUF",
        "outputId": "cd1130d2-7cb6-4840-d1c5-f48abe464d9f"
      },
      "source": [
        "!pip install graphviz \r\n",
        "# conda install python-graphviz (in cmd 창) 노트북에서 문제발생되는 경우에는 컨맨드 창에서 설치 "
      ],
      "execution_count": 46,
      "outputs": [
        {
          "output_type": "stream",
          "text": [
            "Requirement already satisfied: graphviz in /usr/local/lib/python3.6/dist-packages (0.10.1)\n"
          ],
          "name": "stdout"
        }
      ]
    },
    {
      "cell_type": "code",
      "metadata": {
        "colab": {
          "base_uri": "https://localhost:8080/"
        },
        "id": "7q7q0INWX6t3",
        "outputId": "26c29ede-5bb2-468c-fba5-6ad104eb50ba"
      },
      "source": [
        "clf.predict([[4.5, 6.7]]),clf.predict_proba([[4.5, 6.7]])"
      ],
      "execution_count": 47,
      "outputs": [
        {
          "output_type": "execute_result",
          "data": {
            "text/plain": [
              "(array([0]), array([[0.97777778, 0.02222222, 0.        ]]))"
            ]
          },
          "metadata": {
            "tags": []
          },
          "execution_count": 47
        }
      ]
    },
    {
      "cell_type": "code",
      "metadata": {
        "colab": {
          "base_uri": "https://localhost:8080/"
        },
        "id": "wBFZurqUX600",
        "outputId": "aa9b5065-c43a-466a-be7d-c446d301d4ea"
      },
      "source": [
        "clf.score(X_test,y_test)"
      ],
      "execution_count": 37,
      "outputs": [
        {
          "output_type": "execute_result",
          "data": {
            "text/plain": [
              "0.7894736842105263"
            ]
          },
          "metadata": {
            "tags": []
          },
          "execution_count": 37
        }
      ]
    },
    {
      "cell_type": "code",
      "metadata": {
        "id": "hxj7FU_2X67e"
      },
      "source": [
        ""
      ],
      "execution_count": null,
      "outputs": []
    },
    {
      "cell_type": "code",
      "metadata": {
        "id": "p3xGnhICbPDa"
      },
      "source": [
        "from sklearn.datasets import load_breast_cancer"
      ],
      "execution_count": 49,
      "outputs": []
    },
    {
      "cell_type": "code",
      "metadata": {
        "colab": {
          "base_uri": "https://localhost:8080/"
        },
        "id": "vuM7mZZ9bPGR",
        "outputId": "31220dbc-a1d8-4dd7-d516-cbcdc827ec24"
      },
      "source": [
        "cancer=load_breast_cancer()\r\n",
        "cancer"
      ],
      "execution_count": 50,
      "outputs": [
        {
          "output_type": "execute_result",
          "data": {
            "text/plain": [
              "{'DESCR': '.. _breast_cancer_dataset:\\n\\nBreast cancer wisconsin (diagnostic) dataset\\n--------------------------------------------\\n\\n**Data Set Characteristics:**\\n\\n    :Number of Instances: 569\\n\\n    :Number of Attributes: 30 numeric, predictive attributes and the class\\n\\n    :Attribute Information:\\n        - radius (mean of distances from center to points on the perimeter)\\n        - texture (standard deviation of gray-scale values)\\n        - perimeter\\n        - area\\n        - smoothness (local variation in radius lengths)\\n        - compactness (perimeter^2 / area - 1.0)\\n        - concavity (severity of concave portions of the contour)\\n        - concave points (number of concave portions of the contour)\\n        - symmetry \\n        - fractal dimension (\"coastline approximation\" - 1)\\n\\n        The mean, standard error, and \"worst\" or largest (mean of the three\\n        largest values) of these features were computed for each image,\\n        resulting in 30 features.  For instance, field 3 is Mean Radius, field\\n        13 is Radius SE, field 23 is Worst Radius.\\n\\n        - class:\\n                - WDBC-Malignant\\n                - WDBC-Benign\\n\\n    :Summary Statistics:\\n\\n    ===================================== ====== ======\\n                                           Min    Max\\n    ===================================== ====== ======\\n    radius (mean):                        6.981  28.11\\n    texture (mean):                       9.71   39.28\\n    perimeter (mean):                     43.79  188.5\\n    area (mean):                          143.5  2501.0\\n    smoothness (mean):                    0.053  0.163\\n    compactness (mean):                   0.019  0.345\\n    concavity (mean):                     0.0    0.427\\n    concave points (mean):                0.0    0.201\\n    symmetry (mean):                      0.106  0.304\\n    fractal dimension (mean):             0.05   0.097\\n    radius (standard error):              0.112  2.873\\n    texture (standard error):             0.36   4.885\\n    perimeter (standard error):           0.757  21.98\\n    area (standard error):                6.802  542.2\\n    smoothness (standard error):          0.002  0.031\\n    compactness (standard error):         0.002  0.135\\n    concavity (standard error):           0.0    0.396\\n    concave points (standard error):      0.0    0.053\\n    symmetry (standard error):            0.008  0.079\\n    fractal dimension (standard error):   0.001  0.03\\n    radius (worst):                       7.93   36.04\\n    texture (worst):                      12.02  49.54\\n    perimeter (worst):                    50.41  251.2\\n    area (worst):                         185.2  4254.0\\n    smoothness (worst):                   0.071  0.223\\n    compactness (worst):                  0.027  1.058\\n    concavity (worst):                    0.0    1.252\\n    concave points (worst):               0.0    0.291\\n    symmetry (worst):                     0.156  0.664\\n    fractal dimension (worst):            0.055  0.208\\n    ===================================== ====== ======\\n\\n    :Missing Attribute Values: None\\n\\n    :Class Distribution: 212 - Malignant, 357 - Benign\\n\\n    :Creator:  Dr. William H. Wolberg, W. Nick Street, Olvi L. Mangasarian\\n\\n    :Donor: Nick Street\\n\\n    :Date: November, 1995\\n\\nThis is a copy of UCI ML Breast Cancer Wisconsin (Diagnostic) datasets.\\nhttps://goo.gl/U2Uwz2\\n\\nFeatures are computed from a digitized image of a fine needle\\naspirate (FNA) of a breast mass.  They describe\\ncharacteristics of the cell nuclei present in the image.\\n\\nSeparating plane described above was obtained using\\nMultisurface Method-Tree (MSM-T) [K. P. Bennett, \"Decision Tree\\nConstruction Via Linear Programming.\" Proceedings of the 4th\\nMidwest Artificial Intelligence and Cognitive Science Society,\\npp. 97-101, 1992], a classification method which uses linear\\nprogramming to construct a decision tree.  Relevant features\\nwere selected using an exhaustive search in the space of 1-4\\nfeatures and 1-3 separating planes.\\n\\nThe actual linear program used to obtain the separating plane\\nin the 3-dimensional space is that described in:\\n[K. P. Bennett and O. L. Mangasarian: \"Robust Linear\\nProgramming Discrimination of Two Linearly Inseparable Sets\",\\nOptimization Methods and Software 1, 1992, 23-34].\\n\\nThis database is also available through the UW CS ftp server:\\n\\nftp ftp.cs.wisc.edu\\ncd math-prog/cpo-dataset/machine-learn/WDBC/\\n\\n.. topic:: References\\n\\n   - W.N. Street, W.H. Wolberg and O.L. Mangasarian. Nuclear feature extraction \\n     for breast tumor diagnosis. IS&T/SPIE 1993 International Symposium on \\n     Electronic Imaging: Science and Technology, volume 1905, pages 861-870,\\n     San Jose, CA, 1993.\\n   - O.L. Mangasarian, W.N. Street and W.H. Wolberg. Breast cancer diagnosis and \\n     prognosis via linear programming. Operations Research, 43(4), pages 570-577, \\n     July-August 1995.\\n   - W.H. Wolberg, W.N. Street, and O.L. Mangasarian. Machine learning techniques\\n     to diagnose breast cancer from fine-needle aspirates. Cancer Letters 77 (1994) \\n     163-171.',\n",
              " 'data': array([[1.799e+01, 1.038e+01, 1.228e+02, ..., 2.654e-01, 4.601e-01,\n",
              "         1.189e-01],\n",
              "        [2.057e+01, 1.777e+01, 1.329e+02, ..., 1.860e-01, 2.750e-01,\n",
              "         8.902e-02],\n",
              "        [1.969e+01, 2.125e+01, 1.300e+02, ..., 2.430e-01, 3.613e-01,\n",
              "         8.758e-02],\n",
              "        ...,\n",
              "        [1.660e+01, 2.808e+01, 1.083e+02, ..., 1.418e-01, 2.218e-01,\n",
              "         7.820e-02],\n",
              "        [2.060e+01, 2.933e+01, 1.401e+02, ..., 2.650e-01, 4.087e-01,\n",
              "         1.240e-01],\n",
              "        [7.760e+00, 2.454e+01, 4.792e+01, ..., 0.000e+00, 2.871e-01,\n",
              "         7.039e-02]]),\n",
              " 'feature_names': array(['mean radius', 'mean texture', 'mean perimeter', 'mean area',\n",
              "        'mean smoothness', 'mean compactness', 'mean concavity',\n",
              "        'mean concave points', 'mean symmetry', 'mean fractal dimension',\n",
              "        'radius error', 'texture error', 'perimeter error', 'area error',\n",
              "        'smoothness error', 'compactness error', 'concavity error',\n",
              "        'concave points error', 'symmetry error',\n",
              "        'fractal dimension error', 'worst radius', 'worst texture',\n",
              "        'worst perimeter', 'worst area', 'worst smoothness',\n",
              "        'worst compactness', 'worst concavity', 'worst concave points',\n",
              "        'worst symmetry', 'worst fractal dimension'], dtype='<U23'),\n",
              " 'filename': '/usr/local/lib/python3.6/dist-packages/sklearn/datasets/data/breast_cancer.csv',\n",
              " 'target': array([0, 0, 0, 0, 0, 0, 0, 0, 0, 0, 0, 0, 0, 0, 0, 0, 0, 0, 0, 1, 1, 1,\n",
              "        0, 0, 0, 0, 0, 0, 0, 0, 0, 0, 0, 0, 0, 0, 0, 1, 0, 0, 0, 0, 0, 0,\n",
              "        0, 0, 1, 0, 1, 1, 1, 1, 1, 0, 0, 1, 0, 0, 1, 1, 1, 1, 0, 1, 0, 0,\n",
              "        1, 1, 1, 1, 0, 1, 0, 0, 1, 0, 1, 0, 0, 1, 1, 1, 0, 0, 1, 0, 0, 0,\n",
              "        1, 1, 1, 0, 1, 1, 0, 0, 1, 1, 1, 0, 0, 1, 1, 1, 1, 0, 1, 1, 0, 1,\n",
              "        1, 1, 1, 1, 1, 1, 1, 0, 0, 0, 1, 0, 0, 1, 1, 1, 0, 0, 1, 0, 1, 0,\n",
              "        0, 1, 0, 0, 1, 1, 0, 1, 1, 0, 1, 1, 1, 1, 0, 1, 1, 1, 1, 1, 1, 1,\n",
              "        1, 1, 0, 1, 1, 1, 1, 0, 0, 1, 0, 1, 1, 0, 0, 1, 1, 0, 0, 1, 1, 1,\n",
              "        1, 0, 1, 1, 0, 0, 0, 1, 0, 1, 0, 1, 1, 1, 0, 1, 1, 0, 0, 1, 0, 0,\n",
              "        0, 0, 1, 0, 0, 0, 1, 0, 1, 0, 1, 1, 0, 1, 0, 0, 0, 0, 1, 1, 0, 0,\n",
              "        1, 1, 1, 0, 1, 1, 1, 1, 1, 0, 0, 1, 1, 0, 1, 1, 0, 0, 1, 0, 1, 1,\n",
              "        1, 1, 0, 1, 1, 1, 1, 1, 0, 1, 0, 0, 0, 0, 0, 0, 0, 0, 0, 0, 0, 0,\n",
              "        0, 0, 1, 1, 1, 1, 1, 1, 0, 1, 0, 1, 1, 0, 1, 1, 0, 1, 0, 0, 1, 1,\n",
              "        1, 1, 1, 1, 1, 1, 1, 1, 1, 1, 1, 0, 1, 1, 0, 1, 0, 1, 1, 1, 1, 1,\n",
              "        1, 1, 1, 1, 1, 1, 1, 1, 1, 0, 1, 1, 1, 0, 1, 0, 1, 1, 1, 1, 0, 0,\n",
              "        0, 1, 1, 1, 1, 0, 1, 0, 1, 0, 1, 1, 1, 0, 1, 1, 1, 1, 1, 1, 1, 0,\n",
              "        0, 0, 1, 1, 1, 1, 1, 1, 1, 1, 1, 1, 1, 0, 0, 1, 0, 0, 0, 1, 0, 0,\n",
              "        1, 1, 1, 1, 1, 0, 1, 1, 1, 1, 1, 0, 1, 1, 1, 0, 1, 1, 0, 0, 1, 1,\n",
              "        1, 1, 1, 1, 0, 1, 1, 1, 1, 1, 1, 1, 0, 1, 1, 1, 1, 1, 0, 1, 1, 0,\n",
              "        1, 1, 1, 1, 1, 1, 1, 1, 1, 1, 1, 1, 0, 1, 0, 0, 1, 0, 1, 1, 1, 1,\n",
              "        1, 0, 1, 1, 0, 1, 0, 1, 1, 0, 1, 0, 1, 1, 1, 1, 1, 1, 1, 1, 0, 0,\n",
              "        1, 1, 1, 1, 1, 1, 0, 1, 1, 1, 1, 1, 1, 1, 1, 1, 1, 0, 1, 1, 1, 1,\n",
              "        1, 1, 1, 0, 1, 0, 1, 1, 0, 1, 1, 1, 1, 1, 0, 0, 1, 0, 1, 0, 1, 1,\n",
              "        1, 1, 1, 0, 1, 1, 0, 1, 0, 1, 0, 0, 1, 1, 1, 0, 1, 1, 1, 1, 1, 1,\n",
              "        1, 1, 1, 1, 1, 0, 1, 0, 0, 1, 1, 1, 1, 1, 1, 1, 1, 1, 1, 1, 1, 1,\n",
              "        1, 1, 1, 1, 1, 1, 1, 1, 1, 1, 1, 1, 0, 0, 0, 0, 0, 0, 1]),\n",
              " 'target_names': array(['malignant', 'benign'], dtype='<U9')}"
            ]
          },
          "metadata": {
            "tags": []
          },
          "execution_count": 50
        }
      ]
    },
    {
      "cell_type": "code",
      "metadata": {
        "id": "NeuUyTFKbwwH"
      },
      "source": [
        "X, y = cancer.data, cancer.target"
      ],
      "execution_count": 52,
      "outputs": []
    },
    {
      "cell_type": "code",
      "metadata": {
        "colab": {
          "base_uri": "https://localhost:8080/"
        },
        "id": "1QjOsOqhbw0f",
        "outputId": "56dabe3f-a5be-4f89-a86e-3a2cbb4042ea"
      },
      "source": [
        "X.shape, y.shape"
      ],
      "execution_count": 64,
      "outputs": [
        {
          "output_type": "execute_result",
          "data": {
            "text/plain": [
              "((569, 30), (569,))"
            ]
          },
          "metadata": {
            "tags": []
          },
          "execution_count": 64
        }
      ]
    },
    {
      "cell_type": "code",
      "metadata": {
        "id": "J-ap9zHYdfSf"
      },
      "source": [
        "np.random.seed(9) # 설정함에 의하여 동일하게 나옴 "
      ],
      "execution_count": 65,
      "outputs": []
    },
    {
      "cell_type": "code",
      "metadata": {
        "id": "ep970ITHb4at"
      },
      "source": [
        "X_train, X_test, y_train, y_test = train_test_split(X, y)"
      ],
      "execution_count": 66,
      "outputs": []
    },
    {
      "cell_type": "code",
      "metadata": {
        "colab": {
          "base_uri": "https://localhost:8080/"
        },
        "id": "BYMO6W16b4dP",
        "outputId": "90250a3e-5517-415f-dff1-476b372fe88c"
      },
      "source": [
        "clf=DecisionTreeClassifier()\r\n",
        "clf.fit(X_train, y_train)\r\n",
        "clf.score(X_test, y_test)"
      ],
      "execution_count": 67,
      "outputs": [
        {
          "output_type": "execute_result",
          "data": {
            "text/plain": [
              "0.9370629370629371"
            ]
          },
          "metadata": {
            "tags": []
          },
          "execution_count": 67
        }
      ]
    },
    {
      "cell_type": "code",
      "metadata": {
        "colab": {
          "base_uri": "https://localhost:8080/"
        },
        "id": "HjFbrnTmcjEV",
        "outputId": "923ea70e-c3b6-4e68-9b87-a5d5567f9dcc"
      },
      "source": [
        "clf.score(X_train, y_train)"
      ],
      "execution_count": 68,
      "outputs": [
        {
          "output_type": "execute_result",
          "data": {
            "text/plain": [
              "1.0"
            ]
          },
          "metadata": {
            "tags": []
          },
          "execution_count": 68
        }
      ]
    },
    {
      "cell_type": "code",
      "metadata": {
        "colab": {
          "base_uri": "https://localhost:8080/"
        },
        "id": "evEp92QlcjIH",
        "outputId": "c6c205d6-e492-499e-9332-cc2045719f6f"
      },
      "source": [
        "clf.feature_importances_"
      ],
      "execution_count": 69,
      "outputs": [
        {
          "output_type": "execute_result",
          "data": {
            "text/plain": [
              "array([0.00738913, 0.04304395, 0.        , 0.        , 0.        ,\n",
              "       0.        , 0.        , 0.        , 0.        , 0.        ,\n",
              "       0.        , 0.        , 0.        , 0.00332322, 0.        ,\n",
              "       0.01881492, 0.        , 0.        , 0.00931787, 0.        ,\n",
              "       0.71162497, 0.05907088, 0.        , 0.        , 0.        ,\n",
              "       0.02107272, 0.01063452, 0.11570782, 0.        , 0.        ])"
            ]
          },
          "metadata": {
            "tags": []
          },
          "execution_count": 69
        }
      ]
    },
    {
      "cell_type": "code",
      "metadata": {
        "colab": {
          "base_uri": "https://localhost:8080/"
        },
        "id": "jQ5FJNaDcjN-",
        "outputId": "ebab3f2a-99aa-4f67-c1f5-04737789ed55"
      },
      "source": [
        "list(zip(cancer.feature_names, clf.feature_importances_.round(3)))"
      ],
      "execution_count": 70,
      "outputs": [
        {
          "output_type": "execute_result",
          "data": {
            "text/plain": [
              "[('mean radius', 0.007),\n",
              " ('mean texture', 0.043),\n",
              " ('mean perimeter', 0.0),\n",
              " ('mean area', 0.0),\n",
              " ('mean smoothness', 0.0),\n",
              " ('mean compactness', 0.0),\n",
              " ('mean concavity', 0.0),\n",
              " ('mean concave points', 0.0),\n",
              " ('mean symmetry', 0.0),\n",
              " ('mean fractal dimension', 0.0),\n",
              " ('radius error', 0.0),\n",
              " ('texture error', 0.0),\n",
              " ('perimeter error', 0.0),\n",
              " ('area error', 0.003),\n",
              " ('smoothness error', 0.0),\n",
              " ('compactness error', 0.019),\n",
              " ('concavity error', 0.0),\n",
              " ('concave points error', 0.0),\n",
              " ('symmetry error', 0.009),\n",
              " ('fractal dimension error', 0.0),\n",
              " ('worst radius', 0.712),\n",
              " ('worst texture', 0.059),\n",
              " ('worst perimeter', 0.0),\n",
              " ('worst area', 0.0),\n",
              " ('worst smoothness', 0.0),\n",
              " ('worst compactness', 0.021),\n",
              " ('worst concavity', 0.011),\n",
              " ('worst concave points', 0.116),\n",
              " ('worst symmetry', 0.0),\n",
              " ('worst fractal dimension', 0.0)]"
            ]
          },
          "metadata": {
            "tags": []
          },
          "execution_count": 70
        }
      ]
    },
    {
      "cell_type": "code",
      "metadata": {
        "colab": {
          "base_uri": "https://localhost:8080/",
          "height": 134
        },
        "id": "2IM_gfpXdvMO",
        "outputId": "4ea82278-58e2-40f1-dbe1-257682ead33f"
      },
      "source": [
        "import cancer as pd.DataFrame\r\n",
        "df=pd.DataFrame({\"features\": cancer.feature_names,\r\n",
        "                 \"importance\": clf.feature_importances_})\r\n",
        "df"
      ],
      "execution_count": 74,
      "outputs": [
        {
          "output_type": "error",
          "ename": "SyntaxError",
          "evalue": "ignored",
          "traceback": [
            "\u001b[0;36m  File \u001b[0;32m\"<ipython-input-74-84c644d66ef5>\"\u001b[0;36m, line \u001b[0;32m1\u001b[0m\n\u001b[0;31m    import cancer as pd.DataFrame\u001b[0m\n\u001b[0m                       ^\u001b[0m\n\u001b[0;31mSyntaxError\u001b[0m\u001b[0;31m:\u001b[0m invalid syntax\n"
          ]
        }
      ]
    },
    {
      "cell_type": "code",
      "metadata": {
        "id": "mNWnLpUAeb7W"
      },
      "source": [
        ""
      ],
      "execution_count": null,
      "outputs": []
    },
    {
      "cell_type": "code",
      "metadata": {
        "id": "iUtUYEIOecBV"
      },
      "source": [
        ""
      ],
      "execution_count": null,
      "outputs": []
    },
    {
      "cell_type": "code",
      "metadata": {
        "colab": {
          "base_uri": "https://localhost:8080/",
          "height": 187
        },
        "id": "zLouKHG2dvPI",
        "outputId": "7103cf40-3f54-4272-a59e-22c4e3f7c1a8"
      },
      "source": [
        "df=df.sort_values(by='importance', ascending=False)\r\n",
        "df.head(5)"
      ],
      "execution_count": 72,
      "outputs": [
        {
          "output_type": "error",
          "ename": "NameError",
          "evalue": "ignored",
          "traceback": [
            "\u001b[0;31m---------------------------------------------------------------------------\u001b[0m",
            "\u001b[0;31mNameError\u001b[0m                                 Traceback (most recent call last)",
            "\u001b[0;32m<ipython-input-72-16e6cab72676>\u001b[0m in \u001b[0;36m<module>\u001b[0;34m()\u001b[0m\n\u001b[0;32m----> 1\u001b[0;31m \u001b[0mdf\u001b[0m\u001b[0;34m=\u001b[0m\u001b[0mdf\u001b[0m\u001b[0;34m.\u001b[0m\u001b[0msort_values\u001b[0m\u001b[0;34m(\u001b[0m\u001b[0mby\u001b[0m\u001b[0;34m=\u001b[0m\u001b[0;34m'importance'\u001b[0m\u001b[0;34m,\u001b[0m \u001b[0mascending\u001b[0m\u001b[0;34m=\u001b[0m\u001b[0;32mFalse\u001b[0m\u001b[0;34m)\u001b[0m\u001b[0;34m\u001b[0m\u001b[0;34m\u001b[0m\u001b[0m\n\u001b[0m\u001b[1;32m      2\u001b[0m \u001b[0mdf\u001b[0m\u001b[0;34m.\u001b[0m\u001b[0mhead\u001b[0m\u001b[0;34m(\u001b[0m\u001b[0;36m5\u001b[0m\u001b[0;34m)\u001b[0m\u001b[0;34m\u001b[0m\u001b[0;34m\u001b[0m\u001b[0m\n",
            "\u001b[0;31mNameError\u001b[0m: name 'df' is not defined"
          ]
        }
      ]
    },
    {
      "cell_type": "code",
      "metadata": {
        "id": "ypirlRDidvT9"
      },
      "source": [
        ""
      ],
      "execution_count": null,
      "outputs": []
    }
  ]
}